{
 "cells": [
  {
   "cell_type": "code",
   "execution_count": 1,
   "id": "fdd253da",
   "metadata": {
    "collapsed": false
   },
   "outputs": [],
   "source": [
    "import numpy as np\n",
    "from itertools import product\n",
    "from random import random\n",
    "from matplotlib import pyplot as plt"
   ]
  },
  {
   "cell_type": "code",
   "execution_count": 2,
   "id": "6f489d00",
   "metadata": {
    "collapsed": false
   },
   "outputs": [],
   "source": [
    "CIRCLE = 2\n",
    "CROSS = 1\n",
    "EMPTY = 0"
   ]
  },
  {
   "cell_type": "code",
   "execution_count": 3,
   "id": "a3855f32",
   "metadata": {
    "collapsed": false
   },
   "outputs": [
    {
     "data": {
      "text/plain": [
       "(19683, 3, 3)"
      ]
     },
     "execution_count": 3,
     "metadata": {},
     "output_type": "execute_result"
    }
   ],
   "source": [
    "all_possible_states = np.array(\n",
    "    list(product(*([[EMPTY, CROSS, CIRCLE]] * 9)))\n",
    ").reshape((-1, 3, 3))\n",
    "all_possible_states.shape"
   ]
  },
  {
   "cell_type": "code",
   "execution_count": 4,
   "id": "d7a810c0",
   "metadata": {
    "collapsed": false
   },
   "outputs": [
    {
     "data": {
      "text/plain": [
       "(array([[[0, 0, 0],\n",
       "         [0, 0, 0],\n",
       "         [0, 0, 0]],\n",
       " \n",
       "        [[0, 0, 0],\n",
       "         [0, 0, 0],\n",
       "         [0, 0, 1]],\n",
       " \n",
       "        [[0, 0, 0],\n",
       "         [0, 0, 0],\n",
       "         [0, 0, 2]],\n",
       " \n",
       "        [[0, 0, 0],\n",
       "         [0, 0, 0],\n",
       "         [0, 1, 0]]]),\n",
       " array([[2, 2, 2],\n",
       "        [2, 2, 2],\n",
       "        [2, 2, 2]]))"
      ]
     },
     "execution_count": 4,
     "metadata": {},
     "output_type": "execute_result"
    }
   ],
   "source": [
    "all_possible_states[:4], all_possible_states[-1]"
   ]
  },
  {
   "cell_type": "code",
   "execution_count": 5,
   "id": "19e7e1c2",
   "metadata": {
    "collapsed": false
   },
   "outputs": [],
   "source": [
    "def get_state_index(state):\n",
    "    return np.argwhere((all_possible_states[:] == state).reshape((-1,9)).all(axis=-1)).flatten()[0]"
   ]
  },
  {
   "cell_type": "code",
   "execution_count": 6,
   "id": "5544f6b2",
   "metadata": {
    "collapsed": false
   },
   "outputs": [],
   "source": [
    "def get_transitions_states(state, figure):\n",
    "    next_states = []\n",
    "    for plase in np.argwhere(state == EMPTY):\n",
    "        s = state.copy()\n",
    "        s[tuple(plase)] = figure\n",
    "        next_states.append(s)\n",
    "    return next_states\n",
    "\n",
    "def get_transitions_dict(figure):\n",
    "    return {\n",
    "        i: [\n",
    "            get_state_index(s) for s in get_transitions_states(state, figure)\n",
    "        ]\n",
    "        for i, state in enumerate(all_possible_states)\n",
    "    }"
   ]
  },
  {
   "cell_type": "code",
   "execution_count": null,
   "id": "0f624106",
   "metadata": {
    "collapsed": false
   },
   "outputs": [],
   "source": [
    "crosses_transitions = get_transitions_dict(CROSS)\n",
    "crosses_transitions[0]"
   ]
  },
  {
   "cell_type": "code",
   "execution_count": 75,
   "id": "7735c161",
   "metadata": {
    "collapsed": false
   },
   "outputs": [],
   "source": [
    "circles_transitions = get_transitions_dict(CIRCLE)"
   ]
  },
  {
   "cell_type": "code",
   "execution_count": 76,
   "id": "b2cb702e",
   "metadata": {
    "collapsed": false
   },
   "outputs": [],
   "source": [
    "with open('crosses_transitions.txt', 'w') as f:\n",
    "    f.write(repr(crosses_transitions))\n",
    "\n",
    "with open('circles_transitions.txt', 'w') as f:\n",
    "    f.write(repr(circles_transitions))"
   ]
  },
  {
   "cell_type": "code",
   "execution_count": 8,
   "id": "2c0d0ea4",
   "metadata": {
    "collapsed": false
   },
   "outputs": [],
   "source": [
    "with open('crosses_transitions.txt', 'r') as f:\n",
    "    crosses_transitions = eval(f.read())\n",
    "\n",
    "with open('circles_transitions.txt', 'r') as f:\n",
    "    circles_transitions = eval(f.read())"
   ]
  },
  {
   "cell_type": "code",
   "execution_count": 9,
   "id": "ab633ccc",
   "metadata": {
    "collapsed": false
   },
   "outputs": [],
   "source": [
    "ALPHA = 0.002\n",
    "RANDOM_MOVE_POSSIBILITY = 0.1"
   ]
  },
  {
   "cell_type": "code",
   "execution_count": 19,
   "id": "51b89411",
   "metadata": {
    "collapsed": false
   },
   "outputs": [],
   "source": [
    "class Actor():\n",
    "    \n",
    "    def __init__(self, is_circles, lr=None, random_possibility=None):\n",
    "        self.is_circles = is_circles\n",
    "        self.states = []\n",
    "        self.figure = CIRCLE if self.is_circles else CROSS\n",
    "        self.transitions = circles_transitions if self.is_circles else crosses_transitions\n",
    "        self.set_default_costs()\n",
    "        self.is_learning = True\n",
    "        self.previous_selected_state = None\n",
    "        self.lr = lr if lr is not None else ALPHA\n",
    "        self.random_possibility = (\n",
    "            random_possibility if random_possibility is not None else RANDOM_MOVE_POSSIBILITY\n",
    "        )\n",
    "\n",
    "    def reset_state(self):\n",
    "        self.previous_selected_state = None\n",
    "        \n",
    "    def get_next_state(self, state_index, random_possible=True):\n",
    "        next_states = self.transitions[state_index]\n",
    "        if len(next_states) == 0:\n",
    "            # Если все поле уже заполнено\n",
    "            return None\n",
    "        next_state = None\n",
    "        if random_possible and random() < self.random_possibility:\n",
    "            next_state = np.random.choice(next_states)\n",
    "        else:\n",
    "            states_cost = np.array([\n",
    "                self.costs[s] for s in next_states\n",
    "            ])\n",
    "            next_state = next_states[np.random.choice(\n",
    "                np.argwhere(states_cost == max(states_cost)).flatten()\n",
    "            )]\n",
    "        if self.is_learning and self.previous_selected_state is not None:\n",
    "            self.costs[self.previous_selected_state] += (\n",
    "                self.lr * (self.costs[next_state] - self.costs[self.previous_selected_state])\n",
    "            )\n",
    "\n",
    "        self.previous_selected_state = next_state\n",
    "        return next_state\n",
    "\n",
    "    def set_default_costs(self):\n",
    "        self.costs = np.full((all_possible_states.shape[0]), 0.5)\n",
    "        for i, state in enumerate(all_possible_states):\n",
    "            if self.is_win(state):\n",
    "                self.costs[i] = 1.\n",
    "        self.win_states = np.argwhere(self.costs == 1.).flatten()\n",
    "\n",
    "    def is_win(self, state_matrix):\n",
    "        for row in state_matrix:\n",
    "            if (row == self.figure).all():\n",
    "                return True\n",
    "        for column in state_matrix.transpose():\n",
    "            if (column == self.figure).all():\n",
    "                return True\n",
    "        if ((state_matrix.diagonal() == self.figure).all() or\n",
    "            (np.fliplr(state_matrix).diagonal() == self.figure).all()):\n",
    "            return True\n",
    "        \n",
    "    def set_lost(self, state_index):\n",
    "        self.costs[state_index] = 0\n",
    "        self.costs[self.previous_selected_state] += (\n",
    "            self.lr * (self.costs[state_index] - self.costs[self.previous_selected_state])\n",
    "        )"
   ]
  },
  {
   "cell_type": "code",
   "execution_count": 11,
   "id": "8ef70e52",
   "metadata": {
    "collapsed": false
   },
   "outputs": [],
   "source": [
    "def train_match(actor_1, actor_2):\n",
    "    state_index = 0\n",
    "    actor_1.reset_state()\n",
    "    actor_2.reset_state()\n",
    "    while True:\n",
    "        state_index = actor_1.get_next_state(state_index)\n",
    "        if state_index in actor_1.win_states:\n",
    "            # Остановка если победил первый игрок\n",
    "            actor_2.set_lost(state_index)\n",
    "            return 0\n",
    "        state_index = actor_2.get_next_state(state_index)\n",
    "        if state_index is None:\n",
    "            # Остановка если ничья\n",
    "            return -1\n",
    "        if state_index in actor_2.win_states:\n",
    "            # Остановка если победил второй игрок\n",
    "            actor_1.set_lost(state_index)\n",
    "            return 1"
   ]
  },
  {
   "cell_type": "code",
   "execution_count": 20,
   "id": "9d01d4fb",
   "metadata": {
    "collapsed": false
   },
   "outputs": [],
   "source": [
    "circles = Actor(True)\n",
    "crosses = Actor(False)"
   ]
  },
  {
   "cell_type": "code",
   "execution_count": 21,
   "id": "d9e8478a",
   "metadata": {
    "collapsed": false
   },
   "outputs": [
    {
     "data": {
      "text/plain": [
       "{-1: 29763, 0: 12699, 1: 7538}"
      ]
     },
     "execution_count": 21,
     "metadata": {},
     "output_type": "execute_result"
    }
   ],
   "source": [
    "results = {\n",
    "    -1: 0,\n",
    "    0: 0,\n",
    "    1: 0\n",
    "}\n",
    "for i in range(5*10**4):\n",
    "    winner = train_match(crosses, circles)\n",
    "    results[winner] += 1\n",
    "results    "
   ]
  },
  {
   "cell_type": "code",
   "execution_count": 22,
   "id": "70f23fd1",
   "metadata": {
    "collapsed": false
   },
   "outputs": [
    {
     "data": {
      "text/plain": [
       "{-1: 0.59526, 0: 0.25398, 1: 0.15076}"
      ]
     },
     "execution_count": 22,
     "metadata": {},
     "output_type": "execute_result"
    }
   ],
   "source": [
    "{i: val/(sum(results.values())) for i, val in results.items()}"
   ]
  },
  {
   "cell_type": "code",
   "execution_count": 25,
   "id": "8479349e",
   "metadata": {
    "collapsed": false
   },
   "outputs": [],
   "source": [
    "np.save('circles_costs.npy', circles.costs)\n",
    "np.save('crosses_costs.npy', crosses.costs)"
   ]
  },
  {
   "cell_type": "code",
   "execution_count": 23,
   "id": "cd98fca7",
   "metadata": {
    "collapsed": false
   },
   "outputs": [
    {
     "data": {
      "text/plain": [
       "{-1: 50000, 0: 0, 1: 0}"
      ]
     },
     "execution_count": 23,
     "metadata": {},
     "output_type": "execute_result"
    }
   ],
   "source": [
    "results = {\n",
    "    -1: 0,\n",
    "    0: 0,\n",
    "    1: 0\n",
    "}\n",
    "crosses.is_learning = False\n",
    "circles.is_learning = False\n",
    "crosses.random_possibility = 0\n",
    "circles.random_possibility = 0\n",
    "for i in range(5*10**4):\n",
    "    winner = train_match(crosses, circles)\n",
    "    results[winner] += 1\n",
    "results    "
   ]
  },
  {
   "cell_type": "code",
   "execution_count": 24,
   "id": "e43d2c98",
   "metadata": {
    "collapsed": false
   },
   "outputs": [
    {
     "data": {
      "text/plain": [
       "{-1: 1.0, 0: 0.0, 1: 0.0}"
      ]
     },
     "execution_count": 24,
     "metadata": {},
     "output_type": "execute_result"
    }
   ],
   "source": [
    "{i: val/(sum(results.values())) for i, val in results.items()}"
   ]
  },
  {
   "cell_type": "code",
   "execution_count": 15,
   "id": "f772f843",
   "metadata": {
    "collapsed": false
   },
   "outputs": [
    {
     "data": {
      "text/plain": [
       "[<matplotlib.lines.Line2D at 0x7f1b50583790>]"
      ]
     },
     "execution_count": 15,
     "metadata": {},
     "output_type": "execute_result"
    },
    {
     "data": {
      "image/png": "[encoded data removed]",
      "text/plain": [
       "<Figure size 640x480 with 1 Axes>"
      ]
     },
     "metadata": {},
     "output_type": "display_data"
    }
   ],
   "source": [
    "actors_count = 100\n",
    "crosses_new = [Actor(False) for _ in range(actors_count)]\n",
    "scores = []\n",
    "scores_tries = 20\n",
    "circles.is_learning = False\n",
    "for i in range(2*10**3):\n",
    "    if i % 10 == 0:\n",
    "        count = 0\n",
    "        for c in crosses_new:\n",
    "            c.is_learning = False\n",
    "            for _ in range(scores_tries):\n",
    "                winner = train_match(c, circles)\n",
    "                if winner == 0:\n",
    "                    count += 1\n",
    "            c.is_learning = True\n",
    "        scores.append(count/(scores_tries * actors_count))\n",
    "    circles.random_possibility = RANDOM_MOVE_POSSIBILITY\n",
    "    for c in crosses_new:\n",
    "        c.random_possibility = RANDOM_MOVE_POSSIBILITY\n",
    "       winner = train_match(c, circles)\n",
    "    \n",
    "plt.plot(scores)"
   ]
  },
  {
   "cell_type": "code",
   "execution_count": 16,
   "id": "c349e5e4",
   "metadata": {
    "collapsed": false
   },
   "outputs": [
    {
     "data": {
      "text/plain": [
       "[<matplotlib.lines.Line2D at 0x7f1b4f8f2620>]"
      ]
     },
     "execution_count": 16,
     "metadata": {},
     "output_type": "execute_result"
    },
    {
     "data": {
      "image/png": "[encoded data removed]",
      "text/plain": [
       "<Figure size 640x480 with 1 Axes>"
      ]
     },
     "metadata": {},
     "output_type": "display_data"
    }
   ],
   "source": [
    "actors_count = 100\n",
    "circles_new = [Actor(True) for _ in range(actors_count)]\n",
    "scores = []\n",
    "scores_tries = 20\n",
    "crosses.is_learning = False\n",
    "for i in range(2*10**3):\n",
    "    if i % 10 == 0:\n",
    "        count = 0\n",
    "        for c in circles_new:\n",
    "            c.is_learning = False\n",
    "            for _ in range(scores_tries):\n",
    "                winner = train_match(crosses, c)\n",
    "                if winner == 1:\n",
    "                    count += 1\n",
    "            c.is_learning = True\n",
    "        scores.append(count/(scores_tries * actors_count))\n",
    "    crosses.random_possibility = RANDOM_MOVE_POSSIBILITY\n",
    "    for c in circles_new:\n",
    "        c.random_possibility = RANDOM_MOVE_POSSIBILITY\n",
    "        winner = train_match(crosses, c)\n",
    "    \n",
    "plt.plot(scores)"
   ]
  },
  {
   "cell_type": "code",
   "execution_count": null,
   "id": "594203ee",
   "metadata": {
    "collapsed": false
   },
   "outputs": [],
   "source": []
  }
 ],
 "metadata": {
  "kernelspec": {
   "argv": [
    "python",
    "-m",
    "ipykernel_launcher",
    "-f",
    "{connection_file}"
   ],
   "display_name": "Python 3 (ipykernel)",
   "env": null,
   "interrupt_mode": "signal",
   "language": "python",
   "metadata": {
    "debugger": true
   },
   "name": "python3"
  },
  "name": "tic-tac-toe.ipynb"
 },
 "nbformat": 4,
 "nbformat_minor": 5
}
