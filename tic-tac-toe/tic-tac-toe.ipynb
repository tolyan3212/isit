{
 "cells": [
  {
   "cell_type": "code",
   "execution_count": 435,
   "id": "9ff7c04e-c6fb-4df1-b67a-b6e3ebf70f58",
   "metadata": {
    "collapsed": false
   },
   "outputs": [],
   "source": [
    "import numpy as np\n",
    "from itertools import product\n",
    "from random import random\n",
    "from matplotlib import pyplot as plt"
   ]
  },
  {
   "cell_type": "code",
   "execution_count": 15,
   "id": "04b745e1-eede-4aff-b39d-5c715f446fd2",
   "metadata": {
    "collapsed": false
   },
   "outputs": [],
   "source": [
    "CIRCLE = 2\n",
    "CROSS = 1\n",
    "EMPTY = 0"
   ]
  },
  {
   "cell_type": "code",
   "execution_count": 595,
   "id": "0f6add9d-adb3-41e7-88f9-213ab5b2eee7",
   "metadata": {
    "collapsed": false
   },
   "outputs": [
    {
     "data": {
      "text/plain": [
       "(19683, 3, 3)"
      ]
     },
     "execution_count": 595,
     "metadata": {},
     "output_type": "execute_result"
    }
   ],
   "source": [
    "all_possible_states = np.array(\n",
    "    list(product(*([[EMPTY, CROSS, CIRCLE]] * 9)))\n",
    ").reshape((-1, 3, 3))\n",
    "all_possible_states.shape"
   ]
  },
  {
   "cell_type": "code",
   "execution_count": 25,
   "id": "77b2732e-a4ad-4dec-a3e6-617f1e837605",
   "metadata": {
    "collapsed": false
   },
   "outputs": [
    {
     "data": {
      "text/plain": [
       "(array([[[0, 0, 0],\n",
       "         [0, 0, 0],\n",
       "         [0, 0, 0]],\n",
       " \n",
       "        [[0, 0, 0],\n",
       "         [0, 0, 0],\n",
       "         [0, 0, 1]],\n",
       " \n",
       "        [[0, 0, 0],\n",
       "         [0, 0, 0],\n",
       "         [0, 0, 2]],\n",
       " \n",
       "        [[0, 0, 0],\n",
       "         [0, 0, 0],\n",
       "         [0, 1, 0]]]),\n",
       " array([[2, 2, 2],\n",
       "        [2, 2, 2],\n",
       "        [2, 2, 2]]))"
      ]
     },
     "execution_count": 25,
     "metadata": {},
     "output_type": "execute_result"
    }
   ],
   "source": [
    "all_possible_states[:4], all_possible_states[-1]"
   ]
  },
  {
   "cell_type": "code",
   "execution_count": 71,
   "id": "71fb0172-abb6-4aac-9291-7bee6fda7a19",
   "metadata": {
    "collapsed": false
   },
   "outputs": [],
   "source": [
    "def get_state_index(state):\n",
    "    return np.argwhere((all_possible_states[:] == state).reshape((-1,9)).all(axis=-1)).flatten()[0]"
   ]
  },
  {
   "cell_type": "code",
   "execution_count": 63,
   "id": "315e32fe-db78-4bd4-9693-474e299d5fd9",
   "metadata": {
    "collapsed": false
   },
   "outputs": [],
   "source": [
    "def get_transitions_states(state, figure):\n",
    "    next_states = []\n",
    "    for plase in np.argwhere(state == EMPTY):\n",
    "        s = state.copy()\n",
    "        s[tuple(plase)] = figure\n",
    "        next_states.append(s)\n",
    "    return next_states\n",
    "\n",
    "def get_transitions_dict(figure):\n",
    "    return {\n",
    "        i: [\n",
    "            get_state_index(s) for s in get_transitions_states(state, figure)\n",
    "        ]\n",
    "        for i, state in enumerate(all_possible_states)\n",
    "    }"
   ]
  },
  {
   "cell_type": "code",
   "execution_count": 72,
   "id": "76aa5a1f-fd22-4999-9f6f-38939cfaaeb0",
   "metadata": {
    "collapsed": false
   },
   "outputs": [
    {
     "data": {
      "text/plain": [
       "[6561, 2187, 729, 243, 81, 27, 9, 3, 1]"
      ]
     },
     "execution_count": 72,
     "metadata": {},
     "output_type": "execute_result"
    }
   ],
   "source": [
    "crosses_transitions = get_transitions_dict(CROSS)\n",
    "crosses_transitions[0]"
   ]
  },
  {
   "cell_type": "code",
   "execution_count": 75,
   "id": "55603843-1c40-4e1d-8b34-d279809c8717",
   "metadata": {
    "collapsed": false
   },
   "outputs": [],
   "source": [
    "circles_transitions = get_transitions_dict(CIRCLE)"
   ]
  },
  {
   "cell_type": "code",
   "execution_count": 76,
   "id": "e02959dd-4a03-43a3-b924-77ff3fb07550",
   "metadata": {
    "collapsed": false
   },
   "outputs": [],
   "source": [
    "with open('crosses_transitions.txt', 'w') as f:\n",
    "    f.write(repr(crosses_transitions))\n",
    "\n",
    "with open('circles_transitions.txt', 'w') as f:\n",
    "    f.write(repr(circles_transitions))"
   ]
  },
  {
   "cell_type": "code",
   "execution_count": 527,
   "id": "64bb8e33-22bb-420b-b3c3-b9b516168fd5",
   "metadata": {
    "collapsed": false
   },
   "outputs": [],
   "source": [
    "ALPHA = 0.002\n",
    "RANDOM_MOVE_POSSIBILITY = 0.1"
   ]
  },
  {
   "cell_type": "code",
   "execution_count": 528,
   "id": "9af5c121-feb8-4280-9fb6-556c8c9137b8",
   "metadata": {
    "collapsed": false
   },
   "outputs": [],
   "source": [
    "class Actor():\n",
    "    \n",
    "    def __init__(self, is_circles, lr=None, random_possibility=None):\n",
    "        self.is_circles = is_circles\n",
    "        self.states = []\n",
    "        self.figure = CIRCLE if self.is_circles else CROSS\n",
    "        self.transitions = circles_transitions if self.is_circles else crosses_transitions\n",
    "        self.set_default_costs()\n",
    "        self.is_learning = True\n",
    "        self.previous_selected_state = None\n",
    "        self.lr = lr if lr is not None else ALPHA\n",
    "        self.random_possibility = (\n",
    "            random_possibility if random_possibility is not None else RANDOM_MOVE_POSSIBILITY\n",
    "        )\n",
    "\n",
    "    def reset_state(self):\n",
    "        self.previous_selected_state = None\n",
    "        \n",
    "    def get_next_state(self, state_index, random_possible=True):\n",
    "        next_states = self.transitions[state_index]\n",
    "        if len(next_states) == 0:\n",
    "            # Если все поле уже заполнено\n",
    "            return None\n",
    "        next_state = None\n",
    "        if random_possible and random() < RANDOM_MOVE_POSSIBILITY:\n",
    "            next_state = np.random.choice(next_states)\n",
    "        else:\n",
    "            states_cost = np.array([\n",
    "                self.costs[s] for s in next_states\n",
    "            ])\n",
    "            next_state = next_states[np.random.choice(\n",
    "                np.argwhere(states_cost == max(states_cost)).flatten()\n",
    "            )]\n",
    "        if self.is_learning and self.previous_selected_state is not None:\n",
    "            self.costs[self.previous_selected_state] += (\n",
    "                self.lr * (self.costs[next_state] - self.costs[self.previous_selected_state])\n",
    "            )\n",
    "\n",
    "        self.previous_selected_state = next_state\n",
    "        return next_state\n",
    "\n",
    "    def set_default_costs(self):\n",
    "        self.costs = np.full((all_possible_states.shape[0]), 0.5)\n",
    "        for i, state in enumerate(all_possible_states):\n",
    "            if self.is_win(state):\n",
    "                self.costs[i] = 1.\n",
    "        self.win_states = np.argwhere(self.costs == 1.).flatten()\n",
    "\n",
    "    def is_win(self, state_matrix):\n",
    "        for row in state_matrix:\n",
    "            if (row == self.figure).all():\n",
    "                return True\n",
    "        for column in state_matrix.transpose():\n",
    "            if (column == self.figure).all():\n",
    "                return True\n",
    "        if ((state_matrix.diagonal() == self.figure).all() or\n",
    "            (np.fliplr(state_matrix).diagonal() == self.figure).all()):\n",
    "            return True\n",
    "        "
   ]
  },
  {
   "cell_type": "code",
   "execution_count": 529,
   "id": "64b06a80-0f74-4ff5-8cc9-8496713b5218",
   "metadata": {
    "collapsed": false
   },
   "outputs": [],
   "source": [
    "def train_match(actor_1, actor_2):\n",
    "    state_index = 0\n",
    "    actor_1.reset_state()\n",
    "    actor_2.reset_state()\n",
    "    while True:\n",
    "        state_index = actor_1.get_next_state(state_index)\n",
    "        if state_index in actor_1.win_states:\n",
    "            # Остановка если победил первый игрок\n",
    "            return 0\n",
    "        state_index = actor_2.get_next_state(state_index)\n",
    "        if state_index is None:\n",
    "            # Остановка если ничья\n",
    "            return -1\n",
    "        if state_index in actor_2.win_states:\n",
    "            # Остановка если победил второй игрок\n",
    "            return 1"
   ]
  },
  {
   "cell_type": "code",
   "execution_count": 606,
   "id": "09a38593-285f-484e-ba5f-a167a6e2b09d",
   "metadata": {
    "collapsed": false
   },
   "outputs": [],
   "source": [
    "circles = Actor(True)\n",
    "crosses = Actor(False)"
   ]
  },
  {
   "cell_type": "code",
   "execution_count": 607,
   "id": "5713f31e-9832-4cc6-a565-5f915d315b2a",
   "metadata": {
    "collapsed": false
   },
   "outputs": [
    {
     "data": {
      "text/plain": [
       "{-1: 743, 0: 37791, 1: 11466}"
      ]
     },
     "execution_count": 607,
     "metadata": {},
     "output_type": "execute_result"
    }
   ],
   "source": [
    "results = {\n",
    "    -1: 0,\n",
    "    0: 0,\n",
    "    1: 0\n",
    "}\n",
    "for i in range(5*10**4):\n",
    "    winner = train_match(crosses, circles)\n",
    "    results[winner] += 1\n",
    "results    "
   ]
  },
  {
   "cell_type": "code",
   "execution_count": 568,
   "id": "36bc6a22-16da-45ce-ac69-a2e5a6ad3721",
   "metadata": {
    "collapsed": false
   },
   "outputs": [
    {
     "data": {
      "text/plain": [
       "{-1: 0.0232, 0: 0.2786, 1: 0.6982}"
      ]
     },
     "execution_count": 568,
     "metadata": {},
     "output_type": "execute_result"
    }
   ],
   "source": [
    "{i: val/(sum(results.values())) for i, val in results.items()}"
   ]
  },
  {
   "cell_type": "code",
   "execution_count": 608,
   "id": "72e8e3e0-6807-4dd5-89ed-c75af4447799",
   "metadata": {
    "collapsed": false
   },
   "outputs": [],
   "source": [
    "np.save('circles_costs.npy', circles.costs)\n",
    "np.save('crosses_costs.npy', crosses.costs)"
   ]
  },
  {
   "cell_type": "code",
   "execution_count": 569,
   "id": "d7570598-d659-40ac-a470-124c48533bdc",
   "metadata": {
    "collapsed": false
   },
   "outputs": [
    {
     "data": {
      "text/plain": [
       "[<matplotlib.lines.Line2D at 0x7fe2f8568340>]"
      ]
     },
     "execution_count": 569,
     "metadata": {},
     "output_type": "execute_result"
    },
    {
     "data": {
      "image/png": "[encoded data removed]",
      "text/plain": [
       "<Figure size 640x480 with 1 Axes>"
      ]
     },
     "metadata": {},
     "output_type": "display_data"
    }
   ],
   "source": [
    "actors_count = 100\n",
    "crosses_new = [Actor(False) for _ in range(actors_count)]\n",
    "scores = []\n",
    "scores_tries = 20\n",
    "circles.is_learning = False\n",
    "for i in range(2*10**3):\n",
    "    if i % 10 == 0:\n",
    "        count = 0\n",
    "        for c in crosses_new:\n",
    "            c.is_learning = False\n",
    "            for _ in range(scores_tries):\n",
    "                winner = train_match(c, circles)\n",
    "                if winner == 0:\n",
    "                    count += 1\n",
    "            c.is_learning = True\n",
    "        scores.append(count/(scores_tries * actors_count))\n",
    "    for c in crosses_new:\n",
    "        winner = train_match(c, circles)\n",
    "    \n",
    "plt.plot(scores)"
   ]
  },
  {
   "cell_type": "code",
   "execution_count": 570,
   "id": "26444bc9-14f0-4362-935d-f04a7d8f6b48",
   "metadata": {
    "collapsed": false
   },
   "outputs": [
    {
     "data": {
      "text/plain": [
       "[<matplotlib.lines.Line2D at 0x7fe2f83e5270>]"
      ]
     },
     "execution_count": 570,
     "metadata": {},
     "output_type": "execute_result"
    },
    {
     "data": {
      "image/png": "[encoded data removed]",
      "text/plain": [
       "<Figure size 640x480 with 1 Axes>"
      ]
     },
     "metadata": {},
     "output_type": "display_data"
    }
   ],
   "source": [
    "actors_count = 100\n",
    "circles_new = [Actor(True) for _ in range(actors_count)]\n",
    "scores = []\n",
    "scores_tries = 20\n",
    "crosses.is_learning = False\n",
    "for i in range(2*10**3):\n",
    "    if i % 10 == 0:\n",
    "        count = 0\n",
    "        for c in circles_new:\n",
    "            c.is_learning = False\n",
    "            for _ in range(scores_tries):\n",
    "                winner = train_match(crosses, c)\n",
    "                if winner == 1:\n",
    "                    count += 1\n",
    "            c.is_learning = True\n",
    "        scores.append(count/(scores_tries * actors_count))\n",
    "    for c in circles_new:\n",
    "        winner = train_match(crosses, c)\n",
    "    \n",
    "plt.plot(scores)"
   ]
  }
 ],
 "metadata": {
  "kernelspec": {
   "argv": [
    "python",
    "-m",
    "ipykernel_launcher",
    "-f",
    "{connection_file}"
   ],
   "display_name": "Python 3 (ipykernel)",
   "env": null,
   "interrupt_mode": "signal",
   "language": "python",
   "metadata": {
    "debugger": true
   },
   "name": "python3"
  },
  "name": "Untitled.ipynb"
 },
 "nbformat": 4,
 "nbformat_minor": 5
}
