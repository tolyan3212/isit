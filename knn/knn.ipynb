{
 "cells": [
  {
   "cell_type": "code",
   "execution_count": 4,
   "id": "97ff48ee",
   "metadata": {
    "collapsed": false
   },
   "outputs": [],
   "source": [
    "import numpy as np\n",
    "import pandas as pd"
   ]
  },
  {
   "cell_type": "code",
   "execution_count": 5,
   "id": "4624d784",
   "metadata": {
    "collapsed": false
   },
   "outputs": [],
   "source": [
    "def get_distance(x, y):\n",
    "    # Евклидово расстояние\n",
    "    return np.sqrt(np.sum(np.power(x-y, 2)))"
   ]
  },
  {
   "cell_type": "code",
   "execution_count": 47,
   "id": "582eb8ae",
   "metadata": {
    "collapsed": false
   },
   "outputs": [],
   "source": [
    "class Classifier():\n",
    "    def __init__(self):\n",
    "        pass\n",
    "\n",
    "    def fit(self, data, categorical_features_indexes):\n",
    "        self.categorical_features_indexes = categorical_features_indexes\n",
    "        self.categorical_features_values = {}\n",
    "        for i in self.categorical_features_indexes:\n",
    "            self.categorical_features_values.setdefault(i, list(set(data[:,i])))\n",
    "\n",
    "        data = self.transform_data(data)\n",
    "        self.data_x = np.array(data[:, :-1], dtype=float)\n",
    "        self.data_y = data[:, -1]\n",
    "        normalized_data = np.zeros(self.data_x.shape)\n",
    "        self.min_max_values = {}\n",
    "        for i, column in enumerate(self.data_x.transpose()):\n",
    "            _min = None\n",
    "            _max = None\n",
    "            if i not in self.categorical_features_indexes:\n",
    "                _min = np.min(column)\n",
    "                _max = np.max(column)\n",
    "            else:\n",
    "                _min = 0\n",
    "                _max = 1\n",
    "            self.min_max_values.setdefault(i, [0, 1])\n",
    "\n",
    "            for j, value in enumerate(column):\n",
    "                normalized_data[j][i] = (value - _min) / (_max - _min)\n",
    "        self.data_x = normalized_data\n",
    "\n",
    "    def predict(self, x, k=3):\n",
    "        x = self.normalize_element(self.transform_element(x))\n",
    "        distances = [[i, get_distance(x, d)] for i, d in\n",
    "                     enumerate(self.data_x)]\n",
    "        neighbours = [ a[0] for a in sorted(distances, key=lambda x: x[1]) ][:k]\n",
    "        cls = [self.data_y[i] for i in neighbours]\n",
    "        return max([[c, cls.count(c)] for c in set(cls)], key=lambda x: x[1])[0]\n",
    "\n",
    "    def normalize_element(self, element):\n",
    "        res = np.zeros(element.shape)\n",
    "        for i, value in enumerate(element):\n",
    "            _min = self.min_max_values[i][0]\n",
    "            _max = self.min_max_values[i][1]\n",
    "            res[i] = (value - _min) / (_max - _min)\n",
    "        return res\n",
    "\n",
    "    def transform_categorical_value(self, index, value):\n",
    "        # Преобразование значения категориального признака с помощью\n",
    "        # one-hot encoding\n",
    "        result = list(np.zeros(len(self.categorical_features_values[index])))\n",
    "        try:\n",
    "            result[self.categorical_features_values[index].index(value)] = 1\n",
    "        except:\n",
    "            # Если было подано значение категориального признака,\n",
    "            # которого не было в обучающей выборке, то оставить все\n",
    "            # значения нулями\n",
    "            pass\n",
    "        return result\n",
    "\n",
    "    def transform_element(self, element):\n",
    "        result = []\n",
    "        for i, value in enumerate(element):\n",
    "            if i in self.categorical_features_values:\n",
    "                result.extend(self.transform_categorical_value(i, value))\n",
    "            else:\n",
    "                result.append(value)\n",
    "        return np.array(result)\n",
    "\n",
    "    def transform_data(self, data):\n",
    "        result = []\n",
    "        for element in data:\n",
    "            result.append(list(self.transform_element(element)))\n",
    "        return np.array(result)"
   ]
  },
  {
   "cell_type": "code",
   "execution_count": 48,
   "id": "0b1a95b6",
   "metadata": {
    "collapsed": false
   },
   "outputs": [
    {
     "data": {
      "text/plain": [
       "array([['МО', 'Весы', 'Красный', 0, 7.0, 8.0, 'Ч'],\n",
       "       ['СВАО', 'Близнецы', 'Синий', 0, 8.0, 8.0, 'Ч'],\n",
       "       ['СВАО', 'Весы', 'Салатовый', 0, 10.0, 8.0, 'Ч'],\n",
       "       ['ВАО', 'Весы', 'Синий', 1, 8.0, 8.0, 'Ч'],\n",
       "       ['ВАО', 'Стрелец', 'Черный', 1, 8.0, 6.5, 'К'],\n",
       "       ['МО', 'Рыбы', 'Синий', 0, 8.0, 7.0, 'Ч'],\n",
       "       ['СЗАО', 'Овен', 'Белый', 1, 12.0, 7.0, 'К'],\n",
       "       ['САО', 'Близнецы', 'Зеленый', 0, 8.0, 8.0, 'Ч'],\n",
       "       ['МО', 'Козерог', 'Зеленый', 0, 8.0, 7.0, 'Ч'],\n",
       "       ['ЮЗАО', 'Телец', 'Голубой', 1, 7.0, 6.0, 'К'],\n",
       "       ['ЗАО', 'Стрелец', 'Индиго', 0, 10.0, 7.0, 'Ч'],\n",
       "       ['ЮЗАО', 'Близнецы', 'Черный', 1, 14.0, 6.0, 'К'],\n",
       "       ['ЮВАО', 'Стрелец', 'Черный', 1, 6.0, 7.0, 'К'],\n",
       "       ['ЮЗАО', 'Овен', 'Зеленый', 1, 8.5, 7.0, 'Ч'],\n",
       "       ['ВАО', 'Телец', 'Черный', 1, 8.5, 7.0, '0'],\n",
       "       ['ЮЗАО', 'Водолей', 'Оранжевый', 0, 11.0, 8.0, 'Ч'],\n",
       "       ['МО', 'Дева', 'Черный', 0, 14.0, 10.0, 'Ч'],\n",
       "       ['ЮВАО', 'Козерог', 'Зеленый', 0, 9.0, 8.0, 'К'],\n",
       "       ['ЮВАО', 'Весы', 'Фиолетовый', 1, 7.0, 8.0, 'К'],\n",
       "       ['ЮЗАО', 'Овен', 'Зеленый', 1, 7.5, 6.0, 'Ч'],\n",
       "       ['САО', 'Близнец', 'Розовый', 1, 8.0, 4.0, 'Ч'],\n",
       "       ['МО', 'Лев', 'Красный', 1, 9.0, 8.0, 'К']], dtype=object)"
      ]
     },
     "execution_count": 48,
     "metadata": {},
     "output_type": "execute_result"
    }
   ],
   "source": [
    "raw_data = np.array(pd.read_csv('data.csv'))[:,1:]\n",
    "raw_data"
   ]
  },
  {
   "cell_type": "code",
   "execution_count": 49,
   "id": "04aae626",
   "metadata": {
    "collapsed": false
   },
   "outputs": [],
   "source": [
    "categorical_features_indexes = [0, 1, 2]"
   ]
  },
  {
   "cell_type": "code",
   "execution_count": 51,
   "id": "261485e3",
   "metadata": {
    "collapsed": false
   },
   "outputs": [],
   "source": [
    "knn = Classifier()\n",
    "knn.fit(raw_data, categorical_features_indexes)"
   ]
  },
  {
   "cell_type": "code",
   "execution_count": 52,
   "id": "4f8c8a9f",
   "metadata": {
    "collapsed": false
   },
   "outputs": [
    {
     "data": {
      "text/plain": [
       "['Ч',\n",
       " 'Ч',\n",
       " 'Ч',\n",
       " 'Ч',\n",
       " 'К',\n",
       " 'Ч',\n",
       " 'Ч',\n",
       " 'Ч',\n",
       " 'К',\n",
       " 'Ч',\n",
       " 'Ч',\n",
       " 'Ч',\n",
       " 'К',\n",
       " 'Ч',\n",
       " 'К',\n",
       " 'Ч',\n",
       " 'Ч',\n",
       " 'К',\n",
       " 'К',\n",
       " 'Ч',\n",
       " 'Ч',\n",
       " 'К']"
      ]
     },
     "execution_count": 52,
     "metadata": {},
     "output_type": "execute_result"
    }
   ],
   "source": [
    "[knn.predict(x[:-1], 5) for x in raw_data]"
   ]
  },
  {
   "cell_type": "code",
   "execution_count": 53,
   "id": "57c6db28",
   "metadata": {
    "collapsed": false
   },
   "outputs": [
    {
     "data": {
      "text/plain": [
       "'К'"
      ]
     },
     "execution_count": 53,
     "metadata": {},
     "output_type": "execute_result"
    }
   ],
   "source": [
    "knn.predict(['СВАО', 'Рыбы', 'Белый', 1, 9, 5])"
   ]
  },
  {
   "cell_type": "code",
   "execution_count": 2,
   "id": "2a3a0b7c",
   "metadata": {
    "collapsed": false
   },
   "outputs": [
    {
     "data": {
      "text/plain": [
       "[(1, 3), (2, 4)]"
      ]
     },
     "execution_count": 2,
     "metadata": {},
     "output_type": "execute_result"
    }
   ],
   "source": [
    "list(zip([1,2], [3,4]))"
   ]
  },
  {
   "cell_type": "code",
   "execution_count": null,
   "id": "970d0e16",
   "metadata": {
    "collapsed": false
   },
   "outputs": [],
   "source": []
  }
 ],
 "metadata": {
  "kernelspec": {
   "argv": [
    "python",
    "-m",
    "ipykernel_launcher",
    "-f",
    "{connection_file}"
   ],
   "display_name": "Python 3 (ipykernel)",
   "env": null,
   "interrupt_mode": "signal",
   "language": "python",
   "metadata": {
    "debugger": true
   },
   "name": "python3"
  },
  "name": "knn.ipynb"
 },
 "nbformat": 4,
 "nbformat_minor": 5
}
