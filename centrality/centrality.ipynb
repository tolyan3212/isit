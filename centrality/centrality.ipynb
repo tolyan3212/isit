{
 "cells": [
  {
   "cell_type": "code",
   "execution_count": 2,
   "id": "e406b567",
   "metadata": {
    "collapsed": false
   },
   "outputs": [],
   "source": [
    "import networkx"
   ]
  },
  {
   "cell_type": "code",
   "execution_count": 28,
   "id": "92fa20ed",
   "metadata": {
    "collapsed": false
   },
   "outputs": [],
   "source": [
    "with open('data.txt') as f:\n",
    "    data = eval(f.read())\n",
    "\n",
    "with open('data_small.txt') as f:\n",
    "    small_data = eval(f.read())"
   ]
  },
  {
   "cell_type": "code",
   "execution_count": 29,
   "id": "eb933b02",
   "metadata": {
    "collapsed": false
   },
   "outputs": [],
   "source": [
    "def get_all_ids_set(data):\n",
    "    s = set()\n",
    "    for k, values in data.items():\n",
    "        s.add(k)\n",
    "        for v in values:\n",
    "            s.add(v)\n",
    "    return s"
   ]
  },
  {
   "cell_type": "code",
   "execution_count": 32,
   "id": "8727c173",
   "metadata": {
    "collapsed": false
   },
   "outputs": [
    {
     "name": "stdout",
     "output_type": "stream",
     "text": [
      "537779\n",
      "3028\n"
     ]
    }
   ],
   "source": [
    "print(len(get_all_ids_set(data)))\n",
    "print(len(get_all_ids_set(small_data)))"
   ]
  },
  {
   "cell_type": "code",
   "execution_count": 33,
   "id": "04553b2a",
   "metadata": {
    "collapsed": false
   },
   "outputs": [],
   "source": [
    "graph = networkx.Graph(data)\n",
    "small_graph = networkx.Graph(small_data)"
   ]
  },
  {
   "cell_type": "code",
   "execution_count": 34,
   "id": "09f75634",
   "metadata": {
    "collapsed": false
   },
   "outputs": [],
   "source": [
    "c_degree = networkx.degree_centrality(graph)"
   ]
  },
  {
   "cell_type": "code",
   "execution_count": 35,
   "id": "9a49357b",
   "metadata": {
    "collapsed": false
   },
   "outputs": [],
   "source": [
    "c_eigen = networkx.eigenvector_centrality(graph)"
   ]
  },
  {
   "cell_type": "code",
   "execution_count": 46,
   "id": "5759b6d6",
   "metadata": {
    "collapsed": false
   },
   "outputs": [],
   "source": [
    "c_closeness = networkx.closeness_centrality(small_graph)"
   ]
  },
  {
   "cell_type": "code",
   "execution_count": 47,
   "id": "463f81e4",
   "metadata": {
    "collapsed": false
   },
   "outputs": [],
   "source": [
    "c_betweenness = networkx.betweenness_centrality(small_graph)"
   ]
  },
  {
   "cell_type": "code",
   "execution_count": 48,
   "id": "14b660a2",
   "metadata": {
    "collapsed": false
   },
   "outputs": [],
   "source": [
    "for filename, c in zip(['degree.txt', 'eigen.txt', 'closeness.txt', 'betweenness.txt'],\n",
    "                       [c_degree, c_eigen, c_closeness, c_betweenness]):\n",
    "    with open(filename, 'w') as f:\n",
    "        f.write(repr(c))"
   ]
  },
  {
   "cell_type": "code",
   "execution_count": 49,
   "id": "b39871d7",
   "metadata": {
    "collapsed": false
   },
   "outputs": [],
   "source": [
    "group_members = [\n",
    "    96272105,\n",
    "    198245847,\n",
    "    209580238,\n",
    "    58499883,\n",
    "    248925812,\n",
    "    93047688,\n",
    "    203309613,\n",
    "    225067605,\n",
    "    87846703,\n",
    "    386101283,\n",
    "    275831361,\n",
    "    222110446,\n",
    "    98789579,\n",
    "    172039039,\n",
    "    466026608,\n",
    "    470872693,\n",
    "    51345081,\n",
    "    159891320,\n",
    "    166062413,\n",
    "    176839273,\n",
    "    193172908,\n",
    "    152920018,\n",
    "    174001824,\n",
    "    100429433,\n",
    "    183090306,\n",
    "    117653847,\n",
    "    73182682,\n",
    "]"
   ]
  },
  {
   "cell_type": "code",
   "execution_count": 63,
   "id": "6d09eae8",
   "metadata": {
    "collapsed": false
   },
   "outputs": [],
   "source": [
    "def get_central_member(centrality):\n",
    "    member = max(list(zip(group_members, [centrality[m]\n",
    "                                          for m in group_members])),\n",
    "                 key=lambda x: x[1])[0]\n",
    "    return member\n",
    "    "
   ]
  },
  {
   "cell_type": "code",
   "execution_count": 64,
   "id": "bb4afe23",
   "metadata": {
    "collapsed": false
   },
   "outputs": [
    {
     "data": {
      "text/plain": [
       "100429433"
      ]
     },
     "execution_count": 64,
     "metadata": {},
     "output_type": "execute_result"
    }
   ],
   "source": [
    "get_central_member(c_degree)"
   ]
  },
  {
   "cell_type": "code",
   "execution_count": 66,
   "id": "29a396ce",
   "metadata": {
    "collapsed": false
   },
   "outputs": [
    {
     "data": {
      "text/plain": [
       "100429433"
      ]
     },
     "execution_count": 66,
     "metadata": {},
     "output_type": "execute_result"
    }
   ],
   "source": [
    "get_central_member(c_eigen)"
   ]
  },
  {
   "cell_type": "code",
   "execution_count": 67,
   "id": "33b23811",
   "metadata": {
    "collapsed": false
   },
   "outputs": [
    {
     "data": {
      "text/plain": [
       "198245847"
      ]
     },
     "execution_count": 67,
     "metadata": {},
     "output_type": "execute_result"
    }
   ],
   "source": [
    "get_central_member(c_closeness)"
   ]
  },
  {
   "cell_type": "code",
   "execution_count": 65,
   "id": "d6d66fe5",
   "metadata": {
    "collapsed": false
   },
   "outputs": [
    {
     "data": {
      "text/plain": [
       "198245847"
      ]
     },
     "execution_count": 65,
     "metadata": {},
     "output_type": "execute_result"
    }
   ],
   "source": [
    "get_central_member(c_betweenness)"
   ]
  }
 ],
 "metadata": {
  "kernelspec": {
   "argv": [
    "python",
    "-m",
    "ipykernel_launcher",
    "-f",
    "{connection_file}"
   ],
   "display_name": "Python 3 (ipykernel)",
   "env": null,
   "interrupt_mode": "signal",
   "language": "python",
   "metadata": {
    "debugger": true
   },
   "name": "python3"
  },
  "name": "Untitled.ipynb"
 },
 "nbformat": 4,
 "nbformat_minor": 5
}
